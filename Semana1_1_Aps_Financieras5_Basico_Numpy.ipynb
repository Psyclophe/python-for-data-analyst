{
  "nbformat": 4,
  "nbformat_minor": 0,
  "metadata": {
    "colab": {
      "provenance": [],
      "include_colab_link": true
    },
    "kernelspec": {
      "name": "python3",
      "display_name": "Python 3"
    },
    "language_info": {
      "name": "python"
    }
  },
  "cells": [
    {
      "cell_type": "markdown",
      "metadata": {
        "id": "view-in-github",
        "colab_type": "text"
      },
      "source": [
        "<a href=\"https://colab.research.google.com/github/Psyclophe/python-for-data-analyst/blob/main/Semana1_1_Aps_Financieras5_Basico_Numpy.ipynb\" target=\"_parent\"><img src=\"https://colab.research.google.com/assets/colab-badge.svg\" alt=\"Open In Colab\"/></a>"
      ]
    },
    {
      "cell_type": "markdown",
      "source": [
        "[![Open In Colab](https://colab.research.google.com/assets/colab-badge.svg)](https://colab.research.google.com/github/MaxMitre/Aplicaciones-Financieras/blob/main/Semana1/1_PythonBasico_Numpy.ipynb)"
      ],
      "metadata": {
        "id": "JJHcPvqIk-OR"
      }
    },
    {
      "cell_type": "markdown",
      "source": [
        "Esta sesión servirá para introducir a los estudiantes a Python (de modo breve), así como a las librerias de NumPy y Matplotlib, que serán de las mas utilizadas todo el curso."
      ],
      "metadata": {
        "id": "u20ZY7ykkjts"
      }
    },
    {
      "cell_type": "markdown",
      "source": [
        "# Básico de Python"
      ],
      "metadata": {
        "id": "kvc3M2nAkzkA"
      }
    },
    {
      "cell_type": "markdown",
      "source": [
        "## Variables"
      ],
      "metadata": {
        "id": "iN-PCU9jpUzf"
      }
    },
    {
      "cell_type": "code",
      "metadata": {
        "id": "iH6GvJ97zA5A"
      },
      "source": [
        "# Creación de variables y tipos\n",
        "texto = 'Hola mundo' #srt cadenas de texto\n",
        "enteros = 2\n",
        "flotantes = 1.34\n",
        "booleanos = True"
      ],
      "execution_count": 1,
      "outputs": []
    },
    {
      "cell_type": "code",
      "metadata": {
        "id": "DA2zzjkHzFLD",
        "outputId": "87d972af-b958-4fd0-8c36-3c5e93d7d5ee",
        "colab": {
          "base_uri": "https://localhost:8080/"
        }
      },
      "source": [
        "print(texto)\n",
        "print(enteros)\n",
        "print(flotantes)\n",
        "print(booleanos)"
      ],
      "execution_count": 2,
      "outputs": [
        {
          "output_type": "stream",
          "name": "stdout",
          "text": [
            "Hola mundo\n",
            "2\n",
            "1.34\n",
            "True\n"
          ]
        }
      ]
    },
    {
      "cell_type": "code",
      "source": [
        "type(texto)\n",
        "type(entero)\n",
        "type(flotante)\n",
        "type(booleano)"
      ],
      "metadata": {
        "id": "8HliA2Sy7n58",
        "outputId": "e47e7dc7-2337-4eca-8698-aa944fb1052a",
        "colab": {
          "base_uri": "https://localhost:8080/",
          "height": 217
        }
      },
      "execution_count": 4,
      "outputs": [
        {
          "output_type": "error",
          "ename": "NameError",
          "evalue": "ignored",
          "traceback": [
            "\u001b[0;31m---------------------------------------------------------------------------\u001b[0m",
            "\u001b[0;31mNameError\u001b[0m                                 Traceback (most recent call last)",
            "\u001b[0;32m<ipython-input-4-1167daac9b76>\u001b[0m in \u001b[0;36m<cell line: 2>\u001b[0;34m()\u001b[0m\n\u001b[1;32m      1\u001b[0m \u001b[0mtype\u001b[0m\u001b[0;34m(\u001b[0m\u001b[0mtexto\u001b[0m\u001b[0;34m)\u001b[0m\u001b[0;34m\u001b[0m\u001b[0;34m\u001b[0m\u001b[0m\n\u001b[0;32m----> 2\u001b[0;31m \u001b[0mtype\u001b[0m\u001b[0;34m(\u001b[0m\u001b[0mentero\u001b[0m\u001b[0;34m)\u001b[0m\u001b[0;34m\u001b[0m\u001b[0;34m\u001b[0m\u001b[0m\n\u001b[0m\u001b[1;32m      3\u001b[0m \u001b[0mtype\u001b[0m\u001b[0;34m(\u001b[0m\u001b[0mflotante\u001b[0m\u001b[0;34m)\u001b[0m\u001b[0;34m\u001b[0m\u001b[0;34m\u001b[0m\u001b[0m\n\u001b[1;32m      4\u001b[0m \u001b[0mtype\u001b[0m\u001b[0;34m(\u001b[0m\u001b[0mbooleano\u001b[0m\u001b[0;34m)\u001b[0m\u001b[0;34m\u001b[0m\u001b[0;34m\u001b[0m\u001b[0m\n",
            "\u001b[0;31mNameError\u001b[0m: name 'entero' is not defined"
          ]
        }
      ]
    },
    {
      "cell_type": "markdown",
      "source": [
        "**Importante:** Los nombres de las variables son sensibles a mayúsuculas, deben comenzar con una letra de la A a la Z o guión bajo (_) y no pueden ser llamadas igual a las palabras reservadas."
      ],
      "metadata": {
        "id": "HoSeyFIAvr64"
      }
    },
    {
      "cell_type": "code",
      "source": [
        "# Ejemplos de sensibilidad a las mayúsculas\n",
        "Texto = 'Esta variable inicia con una mayúscula'\n",
        "texto = 'Esta variable no'\n",
        "TexTO = 'Esta variable tiene mayúsculas al final'\n",
        "\n",
        "print(Texto)"
      ],
      "metadata": {
        "id": "g2Zsor5mv7AI",
        "outputId": "f07c7288-7fab-40a9-e909-d8f83fab9e11",
        "colab": {
          "base_uri": "https://localhost:8080/"
        }
      },
      "execution_count": 5,
      "outputs": [
        {
          "output_type": "stream",
          "name": "stdout",
          "text": [
            "Esta variable inicia con una mayúscula\n"
          ]
        }
      ]
    },
    {
      "cell_type": "code",
      "execution_count": 6,
      "metadata": {
        "id": "s5u7YmikzwFJ",
        "outputId": "41d7c8c6-fe24-4fff-e307-385c00859202",
        "colab": {
          "base_uri": "https://localhost:8080/"
        }
      },
      "outputs": [
        {
          "output_type": "stream",
          "name": "stdout",
          "text": [
            "False, None, True, __peg_parser__, and, as, assert, async, await, break, class, continue, def, del, elif, else, except, finally, for, from, global, if, import, in, is, lambda, nonlocal, not, or, pass, raise, return, try, while, with, yield\n"
          ]
        }
      ],
      "source": [
        "# Palabras reservadas (no pueden utilizarse para creación de variables)\n",
        "import keyword\n",
        "\n",
        "print(', '.join(keyword.kwlist))"
      ]
    },
    {
      "cell_type": "markdown",
      "source": [
        "Algunos errores que podemos encontrar"
      ],
      "metadata": {
        "id": "TpvMMU81wEkq"
      }
    },
    {
      "cell_type": "code",
      "source": [
        "# Ejemplos de nombres inválidos\n",
        "# No inician con letras o guion bajo\n",
        "3var = 3 \n",
        ".var = 3 #invalid sintax es porque no se escribio correcamente el comando"
      ],
      "metadata": {
        "id": "apr7Wa7klpi7",
        "outputId": "9bffbed1-7929-4a6b-967c-0d9e0b4707fa",
        "colab": {
          "base_uri": "https://localhost:8080/",
          "height": 130
        }
      },
      "execution_count": 7,
      "outputs": [
        {
          "output_type": "error",
          "ename": "SyntaxError",
          "evalue": "ignored",
          "traceback": [
            "\u001b[0;36m  File \u001b[0;32m\"<ipython-input-7-f2c5d0e08da3>\"\u001b[0;36m, line \u001b[0;32m3\u001b[0m\n\u001b[0;31m    3var = 3\u001b[0m\n\u001b[0m     ^\u001b[0m\n\u001b[0;31mSyntaxError\u001b[0m\u001b[0;31m:\u001b[0m invalid syntax\n"
          ]
        }
      ]
    },
    {
      "cell_type": "code",
      "source": [
        "# No pueden usarse palabras reservadas\n",
        "async = 3"
      ],
      "metadata": {
        "id": "I6mELTDxwCqa",
        "outputId": "450cffba-01d4-4bf4-c84d-fefc3a424204",
        "colab": {
          "base_uri": "https://localhost:8080/",
          "height": 130
        }
      },
      "execution_count": 8,
      "outputs": [
        {
          "output_type": "error",
          "ename": "SyntaxError",
          "evalue": "ignored",
          "traceback": [
            "\u001b[0;36m  File \u001b[0;32m\"<ipython-input-8-f1d27d382cc6>\"\u001b[0;36m, line \u001b[0;32m2\u001b[0m\n\u001b[0;31m    async = 3\u001b[0m\n\u001b[0m          ^\u001b[0m\n\u001b[0;31mSyntaxError\u001b[0m\u001b[0;31m:\u001b[0m invalid syntax\n"
          ]
        }
      ]
    },
    {
      "cell_type": "code",
      "source": [
        "texto_mayus = 'hola'\n",
        "\n",
        "texto_mayus"
      ],
      "metadata": {
        "id": "7EC73sZ8um6E",
        "outputId": "32fc228d-66cb-4e09-a35c-e6398dec5da7",
        "colab": {
          "base_uri": "https://localhost:8080/",
          "height": 35
        }
      },
      "execution_count": 9,
      "outputs": [
        {
          "output_type": "execute_result",
          "data": {
            "text/plain": [
              "'hola'"
            ],
            "application/vnd.google.colaboratory.intrinsic+json": {
              "type": "string"
            }
          },
          "metadata": {},
          "execution_count": 9
        }
      ]
    },
    {
      "cell_type": "markdown",
      "source": [
        "# Cadenas"
      ],
      "metadata": {
        "id": "HTh2fXj0zR5M"
      }
    },
    {
      "cell_type": "markdown",
      "source": [
        "¿Comillas dobles o sencillas para crear cadenas? Ambas"
      ],
      "metadata": {
        "id": "SYaVfYsWytU0"
      }
    },
    {
      "cell_type": "code",
      "source": [
        "cadena1 = 'algo'\n",
        "cadena2 = \"algo\""
      ],
      "metadata": {
        "id": "9kD__A0Ny0Jb"
      },
      "execution_count": 10,
      "outputs": []
    },
    {
      "cell_type": "code",
      "source": [
        "print(cadena1)\n",
        "print(cadena2)"
      ],
      "metadata": {
        "id": "Dz18C16-y5kH",
        "outputId": "93d49c6d-86a7-4038-a9fd-35ff873f5c4e",
        "colab": {
          "base_uri": "https://localhost:8080/"
        }
      },
      "execution_count": 11,
      "outputs": [
        {
          "output_type": "stream",
          "name": "stdout",
          "text": [
            "algo\n",
            "algo\n"
          ]
        }
      ]
    },
    {
      "cell_type": "markdown",
      "source": [
        "Podemos sumar y multiplicar cadenas"
      ],
      "metadata": {
        "id": "UtDNumKqzV9a"
      }
    },
    {
      "cell_type": "code",
      "source": [
        "cadena3 = \"alguna cosa\"\n",
        "print(cadena1 + cadena3) #concatenar\n",
        "print(cadena3*3)"
      ],
      "metadata": {
        "id": "I-GBFxh6zYF5",
        "outputId": "9ae659e1-5bf1-4080-f1b5-61eb5831abe0",
        "colab": {
          "base_uri": "https://localhost:8080/"
        }
      },
      "execution_count": 12,
      "outputs": [
        {
          "output_type": "stream",
          "name": "stdout",
          "text": [
            "algoalguna cosa\n",
            "alguna cosaalguna cosaalguna cosa\n"
          ]
        }
      ]
    },
    {
      "cell_type": "markdown",
      "source": [
        "Cambios para cadenas de caracteres"
      ],
      "metadata": {
        "id": "vBGtbD5uwRXT"
      }
    },
    {
      "cell_type": "code",
      "source": [
        "texto"
      ],
      "metadata": {
        "id": "QBob9Lhqv_de",
        "outputId": "b7473706-a491-462e-9587-91cfbe86f0ac",
        "colab": {
          "base_uri": "https://localhost:8080/",
          "height": 35
        }
      },
      "execution_count": 13,
      "outputs": [
        {
          "output_type": "execute_result",
          "data": {
            "text/plain": [
              "'Esta variable no'"
            ],
            "application/vnd.google.colaboratory.intrinsic+json": {
              "type": "string"
            }
          },
          "metadata": {},
          "execution_count": 13
        }
      ]
    },
    {
      "cell_type": "code",
      "source": [
        "#Funcion\n",
        "print ('lo que voy a imprimir')"
      ],
      "metadata": {
        "id": "jUT6AOkYp0oO",
        "outputId": "0ff97b07-a67c-4461-99be-1225b5eba508",
        "colab": {
          "base_uri": "https://localhost:8080/"
        }
      },
      "execution_count": 15,
      "outputs": [
        {
          "output_type": "stream",
          "name": "stdout",
          "text": [
            "lo que voy a imprimir\n"
          ]
        }
      ]
    },
    {
      "cell_type": "code",
      "source": [
        "#MEtodo\n",
        "texto.lower()"
      ],
      "metadata": {
        "id": "RdGMtt3BmPQA",
        "outputId": "0cf51bca-41a9-46d6-c274-1bc9a2bdb6c8",
        "colab": {
          "base_uri": "https://localhost:8080/",
          "height": 35
        }
      },
      "execution_count": 14,
      "outputs": [
        {
          "output_type": "execute_result",
          "data": {
            "text/plain": [
              "'esta variable no'"
            ],
            "application/vnd.google.colaboratory.intrinsic+json": {
              "type": "string"
            }
          },
          "metadata": {},
          "execution_count": 14
        }
      ]
    },
    {
      "cell_type": "code",
      "source": [
        "texto.upper()"
      ],
      "metadata": {
        "id": "rUt85aMFmQC1"
      },
      "execution_count": null,
      "outputs": []
    },
    {
      "cell_type": "code",
      "source": [
        "texto.title()"
      ],
      "metadata": {
        "id": "kkLQWHudmQAf"
      },
      "execution_count": null,
      "outputs": []
    },
    {
      "cell_type": "markdown",
      "source": [
        "Podemos separar nuestra cadena dado un patrón"
      ],
      "metadata": {
        "id": "tp5-rHdTzGHj"
      }
    },
    {
      "cell_type": "code",
      "source": [
        "texto = 'Esta, cadena, la, separaré, por, comas'\n",
        "texto.split(', ') #Metodo nos pemrite tener una lista"
      ],
      "metadata": {
        "id": "uszJtSZmzFZN",
        "outputId": "61a8823b-b679-4425-81a4-9566cd7ce73c",
        "colab": {
          "base_uri": "https://localhost:8080/"
        }
      },
      "execution_count": 16,
      "outputs": [
        {
          "output_type": "execute_result",
          "data": {
            "text/plain": [
              "['Esta', 'cadena', 'la', 'separaré', 'por', 'comas']"
            ]
          },
          "metadata": {},
          "execution_count": 16
        }
      ]
    },
    {
      "cell_type": "code",
      "source": [
        "print(texto)\n",
        "# Método muy importante\n",
        "print(texto.replace('a', 'Z')) #metodo y funcion"
      ],
      "metadata": {
        "id": "eJaz8yy_l9qn",
        "outputId": "e506bd78-c5ac-41eb-c18b-11f4f56a5e18",
        "colab": {
          "base_uri": "https://localhost:8080/"
        }
      },
      "execution_count": 17,
      "outputs": [
        {
          "output_type": "stream",
          "name": "stdout",
          "text": [
            "Esta, cadena, la, separaré, por, comas\n",
            "EstZ, cZdenZ, lZ, sepZrZré, por, comZs\n"
          ]
        }
      ]
    },
    {
      "cell_type": "code",
      "source": [
        "texto"
      ],
      "metadata": {
        "id": "RyQID6inwjvw",
        "outputId": "7a016cdc-5532-492f-ccbf-f11af957ae9d",
        "colab": {
          "base_uri": "https://localhost:8080/",
          "height": 35
        }
      },
      "execution_count": 18,
      "outputs": [
        {
          "output_type": "execute_result",
          "data": {
            "text/plain": [
              "'Esta, cadena, la, separaré, por, comas'"
            ],
            "application/vnd.google.colaboratory.intrinsic+json": {
              "type": "string"
            }
          },
          "metadata": {},
          "execution_count": 18
        }
      ]
    },
    {
      "cell_type": "markdown",
      "source": [
        "## Operaciones con variables numéricas\n"
      ],
      "metadata": {
        "id": "WLJGXCAqwlNs"
      }
    },
    {
      "cell_type": "code",
      "source": [
        "# Defino mis variables\n",
        "a = 5\n",
        "b = 2"
      ],
      "metadata": {
        "id": "ZGdPaHXvwxIZ"
      },
      "execution_count": 19,
      "outputs": []
    },
    {
      "cell_type": "code",
      "source": [
        "# Suma\n",
        "print(f'Suma: {a + b}') #lo que esta dentro de los corchetes es una variable\n",
        "# Resta\n",
        "print(f'Resta: {a - b}')\n",
        "#Multiplicación\n",
        "print(f'Multiplicación: {a * b}')\n",
        "# División\n",
        "print(f'División: {a / b}')\n",
        "# Parte entera de la división\n",
        "print(f'Parte entera de división: {a // b}')\n",
        "# División modular\n",
        "print(f'Residuo: {a % b}')"
      ],
      "metadata": {
        "id": "_bJdHiPkwZYk",
        "outputId": "fc4cc478-956d-4091-a08a-db93b5c7fbda",
        "colab": {
          "base_uri": "https://localhost:8080/"
        }
      },
      "execution_count": 20,
      "outputs": [
        {
          "output_type": "stream",
          "name": "stdout",
          "text": [
            "Suma: 7\n",
            "Resta: 3\n",
            "Multiplicación: 10\n",
            "División: 2.5\n",
            "Parte entera de división: 2\n",
            "Residuo: 1\n"
          ]
        }
      ]
    },
    {
      "cell_type": "code",
      "source": [
        "#otros formatos de impresion\n",
        "print('Suma: ' + str(a+b))\n",
        "print('Suma: {}'.format(a+b))"
      ],
      "metadata": {
        "id": "eDQ2Cs77w9TE",
        "outputId": "ffaabb75-26b3-4262-dce4-8edd9a1c6b9f",
        "colab": {
          "base_uri": "https://localhost:8080/"
        }
      },
      "execution_count": 21,
      "outputs": [
        {
          "output_type": "stream",
          "name": "stdout",
          "text": [
            "Suma: 7\n",
            "Suma: 7\n"
          ]
        }
      ]
    },
    {
      "cell_type": "code",
      "source": [
        "# Potencias se crean con dos *\n",
        "2**3"
      ],
      "metadata": {
        "id": "XD9y3hIQ_XuK",
        "outputId": "098058cf-16c5-470f-9e14-5d3f9435abdf",
        "colab": {
          "base_uri": "https://localhost:8080/"
        }
      },
      "execution_count": 22,
      "outputs": [
        {
          "output_type": "execute_result",
          "data": {
            "text/plain": [
              "8"
            ]
          },
          "metadata": {},
          "execution_count": 22
        }
      ]
    },
    {
      "cell_type": "markdown",
      "source": [
        "## Listas"
      ],
      "metadata": {
        "id": "xUPPCFZtpXua"
      }
    },
    {
      "cell_type": "code",
      "source": [
        "lista_vacia = [] #lista se define con corchetes\n",
        "lista_vacia"
      ],
      "metadata": {
        "id": "DCHpQBuZx4bK",
        "outputId": "b623e95c-7bd3-42f6-c543-d853790bddb3",
        "colab": {
          "base_uri": "https://localhost:8080/"
        }
      },
      "execution_count": 23,
      "outputs": [
        {
          "output_type": "execute_result",
          "data": {
            "text/plain": [
              "[]"
            ]
          },
          "metadata": {},
          "execution_count": 23
        }
      ]
    },
    {
      "cell_type": "code",
      "metadata": {
        "id": "Qyf1RnKV9W9n",
        "outputId": "a853c5dd-c49f-4ff9-fa16-aa56b765bb6b",
        "colab": {
          "base_uri": "https://localhost:8080/"
        }
      },
      "source": [
        "tiempos_traslado = [3, 34, 23, 12, 3, 4]\n",
        "tiempos_traslado"
      ],
      "execution_count": 24,
      "outputs": [
        {
          "output_type": "execute_result",
          "data": {
            "text/plain": [
              "[3, 34, 23, 12, 3, 4]"
            ]
          },
          "metadata": {},
          "execution_count": 24
        }
      ]
    },
    {
      "cell_type": "code",
      "metadata": {
        "id": "KuallMho9mTR",
        "outputId": "967ba13e-d15d-4284-8ce5-16d84a117a46",
        "colab": {
          "base_uri": "https://localhost:8080/"
        }
      },
      "source": [
        "lista_mixta = [\"Juan\", 23, 54.2, 23, False, 'Avión']\n",
        "lista_mixta"
      ],
      "execution_count": 25,
      "outputs": [
        {
          "output_type": "execute_result",
          "data": {
            "text/plain": [
              "['Juan', 23, 54.2, 23, False, 'Avión']"
            ]
          },
          "metadata": {},
          "execution_count": 25
        }
      ]
    },
    {
      "cell_type": "code",
      "source": [
        "# Crear rangos (podemos iterar sobre ellos)\n",
        "range(10)"
      ],
      "metadata": {
        "id": "vBaHUK8lF5QP"
      },
      "execution_count": null,
      "outputs": []
    },
    {
      "cell_type": "code",
      "metadata": {
        "id": "ttKHZlpoADh7"
      },
      "source": [
        "sucesion = list(range(10))\n",
        "sucesion"
      ],
      "execution_count": null,
      "outputs": []
    },
    {
      "cell_type": "markdown",
      "source": [
        "Podemos localizar elementos de las listas con sus índices (Slicing)"
      ],
      "metadata": {
        "id": "8Y4B2D4DzsvM"
      }
    },
    {
      "cell_type": "code",
      "source": [
        "# Busqueda de elemento de adelante hacia atras\n",
        "lista_mixta[3]"
      ],
      "metadata": {
        "id": "K00VQeIrzshM"
      },
      "execution_count": null,
      "outputs": []
    },
    {
      "cell_type": "code",
      "metadata": {
        "id": "2Gd3BjKi-xJi"
      },
      "source": [
        "# Busqueda de elemento de atras hacia adelante\n",
        "lista_mixta[-1]"
      ],
      "execution_count": null,
      "outputs": []
    },
    {
      "cell_type": "code",
      "metadata": {
        "id": "zz-TWPwg_-Lv"
      },
      "source": [
        "sucesion[1:5]"
      ],
      "execution_count": null,
      "outputs": []
    },
    {
      "cell_type": "code",
      "metadata": {
        "id": "-BKP0pAZBK1B"
      },
      "source": [
        "# Todos los pares considerando al cero\n",
        "sucesion[2:8:2]"
      ],
      "execution_count": null,
      "outputs": []
    },
    {
      "cell_type": "code",
      "metadata": {
        "id": "VuR87ndTCn0e"
      },
      "source": [
        "print(lista_mixta)\n",
        "lista_mixta.index(23)"
      ],
      "execution_count": null,
      "outputs": []
    },
    {
      "cell_type": "markdown",
      "source": [
        "Concatenar listas\n"
      ],
      "metadata": {
        "id": "M_lAao_G3En2"
      }
    },
    {
      "cell_type": "code",
      "source": [
        "a = [1, 2, 3]\n",
        "b = [4, 5, 6]\n",
        "\n",
        "a + b"
      ],
      "metadata": {
        "id": "MljHEQIA3Ddm"
      },
      "execution_count": null,
      "outputs": []
    },
    {
      "cell_type": "markdown",
      "source": [
        "Agregar (apendizar) elementos a una lista"
      ],
      "metadata": {
        "id": "pCwiQgzc_-Ds"
      }
    },
    {
      "cell_type": "code",
      "source": [
        "listita = [1, 4, 5, 8]\n",
        "listita.append(9)\n",
        "listita"
      ],
      "metadata": {
        "id": "xpAMW_3g_9gC"
      },
      "execution_count": null,
      "outputs": []
    },
    {
      "cell_type": "markdown",
      "source": [
        "Ordenar listas"
      ],
      "metadata": {
        "id": "hhKbrhFL37XP"
      }
    },
    {
      "cell_type": "code",
      "source": [
        "lista = [4,2,5,7,3,8]\n",
        "lista.sort()\n",
        "lista"
      ],
      "metadata": {
        "id": "uJWLdbDW383h"
      },
      "execution_count": null,
      "outputs": []
    },
    {
      "cell_type": "code",
      "source": [
        "lista = [4,2,5,7,3,8]\n",
        "lista.sort(reverse = True)\n",
        "lista"
      ],
      "metadata": {
        "id": "LDCnRR5b3-Vd"
      },
      "execution_count": null,
      "outputs": []
    },
    {
      "cell_type": "markdown",
      "source": [
        "## Texto como lista de caracteres"
      ],
      "metadata": {
        "id": "7itW4Eb_4EcR"
      }
    },
    {
      "cell_type": "code",
      "source": [
        "print(texto)\n",
        "texto[2]"
      ],
      "metadata": {
        "id": "RY2a0HGJ4GiC"
      },
      "execution_count": null,
      "outputs": []
    },
    {
      "cell_type": "markdown",
      "source": [
        "## Conjuntos"
      ],
      "metadata": {
        "id": "syLfL9ThpZ5e"
      }
    },
    {
      "cell_type": "code",
      "metadata": {
        "id": "FQ-HR16SMsEz"
      },
      "source": [
        "{1, 2, 2, 3, 4}"
      ],
      "execution_count": null,
      "outputs": []
    },
    {
      "cell_type": "code",
      "metadata": {
        "id": "T_eS8bWGWzq4"
      },
      "source": [
        "set(['a', 'b', 't', 'c', 't'])"
      ],
      "execution_count": null,
      "outputs": []
    },
    {
      "cell_type": "markdown",
      "source": [
        "Funciones de transformacion"
      ],
      "metadata": {
        "id": "siwzkGhdIuFO"
      }
    },
    {
      "cell_type": "code",
      "source": [
        "list()\n",
        "set()\n",
        "int()\n",
        "float()\n",
        "str()\n",
        "bool()"
      ],
      "metadata": {
        "id": "7J0g45u7Itzr"
      },
      "execution_count": null,
      "outputs": []
    },
    {
      "cell_type": "markdown",
      "source": [
        "String vs Entero"
      ],
      "metadata": {
        "id": "VhA5pTk4ekLh"
      }
    },
    {
      "cell_type": "code",
      "source": [
        "'6' + '6'"
      ],
      "metadata": {
        "id": "QJ6Q_cg5C76Z"
      },
      "execution_count": null,
      "outputs": []
    },
    {
      "cell_type": "code",
      "source": [
        "int('6') + int('6')"
      ],
      "metadata": {
        "id": "bhuh-sVTC13g"
      },
      "execution_count": null,
      "outputs": []
    },
    {
      "cell_type": "markdown",
      "source": [
        "## Diccionarios (de los elementos mas importantes)"
      ],
      "metadata": {
        "id": "K6yOHLV4pbv_"
      }
    },
    {
      "cell_type": "code",
      "metadata": {
        "id": "2eRmGzV2ELuq"
      },
      "source": [
        "datos = {\n",
        "    \"nombre\": \"Manuel Pérez\", \n",
        "    \"carrera\": 'Veterinaria', \n",
        "    \"sueldo\": 30000, \n",
        "    \"es_casado\": False, \n",
        "    \"hijos\": [\n",
        "              {\"nombre\": \"Juan Pérez\", \"edad\": 5}, \n",
        "              {\"nombre\": \"María Pérez\", \"edad\": 3}\n",
        "              ]\n",
        "}\n",
        "\n",
        "\n",
        "datos"
      ],
      "execution_count": null,
      "outputs": []
    },
    {
      "cell_type": "code",
      "metadata": {
        "id": "W_W_2y2nEhbt"
      },
      "source": [
        "# Acceder a datis dentro de un diccionario\n",
        "datos['hijos']"
      ],
      "execution_count": null,
      "outputs": []
    },
    {
      "cell_type": "code",
      "metadata": {
        "id": "J3_OGktpE26I"
      },
      "source": [
        "# Primer paso, acceder a la lista que contiene los hijos\n",
        "# segundo paso, acceder al segundo elemento de esa lista (posicion 1)\n",
        "# tercer paso, acceder al valor del nombre del hijo\n",
        "datos['hijos']\n",
        "datos['hijos'][1]\n",
        "datos['hijos'][1]['nombre']"
      ],
      "execution_count": null,
      "outputs": []
    },
    {
      "cell_type": "code",
      "metadata": {
        "id": "mwAq0j6dFQg1"
      },
      "source": [
        "# ¿Cuántos hijos tiene?\n",
        "print(type(datos['hijos']))\n",
        "len(datos['hijos'])"
      ],
      "execution_count": null,
      "outputs": []
    },
    {
      "cell_type": "code",
      "metadata": {
        "id": "AnDuQg1-GK4O"
      },
      "source": [
        "datos.keys()"
      ],
      "execution_count": null,
      "outputs": []
    },
    {
      "cell_type": "code",
      "metadata": {
        "id": "vL_0mQ1sYAgp"
      },
      "source": [
        "datos.values()"
      ],
      "execution_count": null,
      "outputs": []
    },
    {
      "cell_type": "code",
      "source": [
        "contactos = [\n",
        "             {\n",
        "                 \"nombre\": \"A\", \n",
        "                \"telefono\": 2121\n",
        "             }, {\n",
        "                 \"nombre\": \"B\", \n",
        "                 \"email\": 'email@asdf.c'\n",
        "             }\n",
        "]"
      ],
      "metadata": {
        "id": "PETRToBM4yCS"
      },
      "execution_count": null,
      "outputs": []
    },
    {
      "cell_type": "code",
      "source": [
        "len(contactos)"
      ],
      "metadata": {
        "id": "yztxu-Rl4ykW"
      },
      "execution_count": null,
      "outputs": []
    },
    {
      "cell_type": "code",
      "source": [
        "# Funcion para ver el tipo de dato\n",
        "type(contactos)"
      ],
      "metadata": {
        "id": "wvoHc5DpYMNT"
      },
      "execution_count": null,
      "outputs": []
    },
    {
      "cell_type": "code",
      "source": [
        "dictio = {\n",
        "                 \"nombre\": \"A\", \n",
        "                \"telefono\": 2121\n",
        "             }"
      ],
      "metadata": {
        "id": "-iT-xDwA25kb"
      },
      "execution_count": null,
      "outputs": []
    },
    {
      "cell_type": "code",
      "source": [
        "dictio['edad'] = 23"
      ],
      "metadata": {
        "id": "CqdvsBiT2_iL"
      },
      "execution_count": null,
      "outputs": []
    },
    {
      "cell_type": "code",
      "source": [
        "dictio"
      ],
      "metadata": {
        "id": "21wC0XO53DdC"
      },
      "execution_count": null,
      "outputs": []
    },
    {
      "cell_type": "code",
      "source": [
        "dictio['edad'] = [23,24,25,26,27]"
      ],
      "metadata": {
        "id": "WM9fpY4a3JKq"
      },
      "execution_count": null,
      "outputs": []
    },
    {
      "cell_type": "code",
      "source": [
        "dictio"
      ],
      "metadata": {
        "id": "fMlQLWuv3LAT"
      },
      "execution_count": null,
      "outputs": []
    },
    {
      "cell_type": "markdown",
      "source": [
        "## Booleanos (Verdadero o Falso, para verificaciones)"
      ],
      "metadata": {
        "id": "Fh0GGVQGpplT"
      }
    },
    {
      "cell_type": "code",
      "metadata": {
        "id": "gy-eRLjiaL3n"
      },
      "source": [
        "mi_primer_booleano = False\n",
        "mi_primer_booleano"
      ],
      "execution_count": null,
      "outputs": []
    },
    {
      "cell_type": "code",
      "metadata": {
        "id": "pp3Z3Zf9KJwK"
      },
      "source": [
        "# Revisar si valores son iguales\n",
        "3 == 4"
      ],
      "execution_count": null,
      "outputs": []
    },
    {
      "cell_type": "code",
      "metadata": {
        "id": "ZyfnK7F9K4T1"
      },
      "source": [
        "cadena = 'El cazo'\n",
        "cadena == 'sarten'"
      ],
      "execution_count": null,
      "outputs": []
    },
    {
      "cell_type": "code",
      "metadata": {
        "id": "BDmiwCiVK9u3"
      },
      "source": [
        "cadena == 'El cazo'"
      ],
      "execution_count": null,
      "outputs": []
    },
    {
      "cell_type": "code",
      "metadata": {
        "id": "ovPfx1PGaeDv"
      },
      "source": [
        "cadena == 'el cazo'"
      ],
      "execution_count": null,
      "outputs": []
    },
    {
      "cell_type": "code",
      "source": [
        "n = 3"
      ],
      "metadata": {
        "id": "8rkGw72vLEXk"
      },
      "execution_count": null,
      "outputs": []
    },
    {
      "cell_type": "code",
      "source": [
        "print(n)"
      ],
      "metadata": {
        "id": "8kiHFBzu6L1i"
      },
      "execution_count": null,
      "outputs": []
    },
    {
      "cell_type": "code",
      "metadata": {
        "id": "zDzcHGQ9KeXX"
      },
      "source": [
        "# Un número es mayor a otros\n",
        "print(n > 3)\n",
        "print(n <= 3)\n",
        "print(n == 3) \n",
        "print(n != 3)"
      ],
      "execution_count": null,
      "outputs": []
    },
    {
      "cell_type": "code",
      "source": [
        "type('asdfas') is str"
      ],
      "metadata": {
        "id": "Y2H0aqZM6U2R"
      },
      "execution_count": null,
      "outputs": []
    },
    {
      "cell_type": "code",
      "source": [
        "not 3 > 3"
      ],
      "metadata": {
        "id": "3nCCNOh-6VXB"
      },
      "execution_count": null,
      "outputs": []
    },
    {
      "cell_type": "code",
      "metadata": {
        "id": "UXb4n-mOL9RG"
      },
      "source": [
        "# Revisa si un elemento no está en la lista\n",
        "10 not in sucesion"
      ],
      "execution_count": null,
      "outputs": []
    },
    {
      "cell_type": "markdown",
      "source": [
        "Comparando **float** con **int**:"
      ],
      "metadata": {
        "id": "_d9xgVQW45d2"
      }
    },
    {
      "cell_type": "code",
      "source": [
        "m = 2\n",
        "n = 2.00000000000000000000000000000001\n",
        "\n",
        "print(type(m))\n",
        "print(type(n))"
      ],
      "metadata": {
        "id": "soequlcu45BA"
      },
      "execution_count": null,
      "outputs": []
    },
    {
      "cell_type": "code",
      "source": [
        "# ¿Cual será el valor de esta comparación?\n",
        "m == n"
      ],
      "metadata": {
        "id": "gyqlsHjg5MyJ"
      },
      "execution_count": null,
      "outputs": []
    },
    {
      "cell_type": "markdown",
      "source": [
        "¿Y con comillas y dobles comillas?"
      ],
      "metadata": {
        "id": "pp3l0CqF5TDb"
      }
    },
    {
      "cell_type": "code",
      "source": [
        "'algo' == \"algo\""
      ],
      "metadata": {
        "id": "3w1BtB-k5Wwv"
      },
      "execution_count": null,
      "outputs": []
    },
    {
      "cell_type": "markdown",
      "source": [
        "# Estructuras de control"
      ],
      "metadata": {
        "id": "AtHmXkhk6cX0"
      }
    },
    {
      "cell_type": "markdown",
      "source": [
        "## Condicionales \"If\", \"Elif\" y \"Else\""
      ],
      "metadata": {
        "id": "D-UDURPNpuYl"
      }
    },
    {
      "cell_type": "code",
      "metadata": {
        "id": "BE3HMCArTxJ8"
      },
      "source": [
        "n = 'algo'\n",
        "if type(n) is int:\n",
        "  print('n es un entero')\n",
        "  print('Esta otra linea')\n",
        "  print('Una más')\n",
        "else:\n",
        "    print('n no es entero')"
      ],
      "execution_count": null,
      "outputs": []
    },
    {
      "cell_type": "code",
      "metadata": {
        "id": "MWFC_tFtNvxr"
      },
      "source": [
        "n = 7\n",
        "if n == 7:\n",
        "    print(\"n es 7\")\n",
        "elif n > 90:\n",
        "    print('n es mayor a 90')\n",
        "elif n < 2:\n",
        "    print(\"n es menor a 2\")\n",
        "else:\n",
        "    print('ninguna de las condiciones anteriores se cumplió')"
      ],
      "execution_count": null,
      "outputs": []
    },
    {
      "cell_type": "markdown",
      "metadata": {
        "id": "CEy9LsVbVPd-"
      },
      "source": [
        "### While\n",
        "\n",
        "El while se ejecuta hasta que se cumple una condición.\n",
        "\n",
        "Es importante notar que el ciclo **puede ejecutarse infinitamente** si la condición nunca se cumple."
      ]
    },
    {
      "cell_type": "code",
      "metadata": {
        "id": "5ASu7fKhUqKL"
      },
      "source": [
        "i = 0\n",
        "while i < 10:\n",
        "    i += 1 # i = i + 1\n",
        "    print(i)"
      ],
      "execution_count": null,
      "outputs": []
    },
    {
      "cell_type": "code",
      "metadata": {
        "id": "0kkhkXIIX5Do"
      },
      "source": [
        "# Secuencia de fibonacci\n",
        "a, b = 0, 1          \n",
        "\n",
        "secuencia = []\n",
        "\n",
        "while a < 1000:\n",
        "  secuencia.append(a)\n",
        "  a, b = b, a + b\n",
        "\n",
        "secuencia"
      ],
      "execution_count": null,
      "outputs": []
    },
    {
      "cell_type": "markdown",
      "metadata": {
        "id": "UMgBjqnpVMCe"
      },
      "source": [
        "### For\n",
        "\n",
        "Ejecuta el ciclo para cada elemento en un iterable\n",
        "\n"
      ]
    },
    {
      "cell_type": "code",
      "metadata": {
        "id": "1fqubTdSVmpc"
      },
      "source": [
        "for i in range(10):\n",
        "    print(i + 2)"
      ],
      "execution_count": null,
      "outputs": []
    },
    {
      "cell_type": "code",
      "source": [
        "lista = ['Juan', 'María', 'Max', 'Alfonso']"
      ],
      "metadata": {
        "id": "qfx61qfFqCon"
      },
      "execution_count": null,
      "outputs": []
    },
    {
      "cell_type": "code",
      "source": [
        "for persona in lista:\n",
        "  print(persona + ' está comiendo')"
      ],
      "metadata": {
        "id": "C4jlts1kcd8u"
      },
      "execution_count": null,
      "outputs": []
    },
    {
      "cell_type": "code",
      "source": [
        "texto = 'algo escrito'\n",
        "\n",
        "for i in texto:\n",
        "  print(i)"
      ],
      "metadata": {
        "id": "hwD9-GmU7L1K"
      },
      "execution_count": null,
      "outputs": []
    },
    {
      "cell_type": "markdown",
      "source": [
        "## Listas por comprension"
      ],
      "metadata": {
        "id": "ntcpdPktNmyw"
      }
    },
    {
      "cell_type": "code",
      "metadata": {
        "id": "HyoFNtBlY2ht"
      },
      "source": [
        "print(lista)\n",
        "\n",
        "# crea sólo una copia de la lista\n",
        "nueva_lista = [persona + ' comió algo' for persona in lista]\n",
        "nueva_lista"
      ],
      "execution_count": null,
      "outputs": []
    },
    {
      "cell_type": "code",
      "source": [
        "import math"
      ],
      "metadata": {
        "id": "Skw17NGPqOXK"
      },
      "execution_count": null,
      "outputs": []
    },
    {
      "cell_type": "code",
      "metadata": {
        "id": "_Ykc9ApgZqZ2"
      },
      "source": [
        "promedios = [5.9, 6.7, 8.2, 10, 3, 0]\n",
        "[math.ceil(calificacion) if calificacion > 6 and calificacion % 1 > .3 else math.floor(calificacion) for calificacion in promedios]"
      ],
      "execution_count": null,
      "outputs": []
    },
    {
      "cell_type": "code",
      "metadata": {
        "id": "bF-ZTlYiaWXo"
      },
      "source": [
        "# El código anterior equivale a lo siguiente\n",
        "nuevos_promedios = []\n",
        "for x in promedios:\n",
        "    if x > 6 and x % 1 > .3:\n",
        "        nuevos_promedios.append(math.ceil(x))\n",
        "    else:\n",
        "        nuevos_promedios.append(math.floor(x))\n",
        "nuevos_promedios"
      ],
      "execution_count": null,
      "outputs": []
    },
    {
      "cell_type": "markdown",
      "source": [
        "## Control de ciclos"
      ],
      "metadata": {
        "id": "6apPDu-gqcSJ"
      }
    },
    {
      "cell_type": "code",
      "metadata": {
        "id": "i6fVlS7VWg7w"
      },
      "source": [
        "# BREAK\n",
        "j = 1\n",
        "while True:\n",
        "    j *= 10 # j = j*10\n",
        "    print(j)\n",
        "    if j > 1000:\n",
        "        break"
      ],
      "execution_count": null,
      "outputs": []
    },
    {
      "cell_type": "code",
      "metadata": {
        "id": "4b3Q2qhuWsKQ"
      },
      "source": [
        "# CONTINUE\n",
        "for j in range(10):\n",
        "    if 4 < j < 7:\n",
        "        print(f'omitiendo')\n",
        "        continue\n",
        "    print(j)"
      ],
      "execution_count": null,
      "outputs": []
    },
    {
      "cell_type": "markdown",
      "source": [
        "# NumPy (libreria para operaciones matemáticas)"
      ],
      "metadata": {
        "id": "2CzFg3OhrlDJ"
      }
    },
    {
      "cell_type": "markdown",
      "source": [
        "## Creación de Arrays (arreglos)"
      ],
      "metadata": {
        "id": "Jq-l_MzMs35-"
      }
    },
    {
      "cell_type": "markdown",
      "source": [
        "Modos de hacer importacion (no ejecutar)"
      ],
      "metadata": {
        "id": "3B09LGas9UuS"
      }
    },
    {
      "cell_type": "code",
      "source": [
        "# NO EJECUTAR\n",
        "\n",
        "from numpy import sum    # sum()\n",
        "\n",
        "import numpy     # numpy.sum()\n",
        "\n",
        "import numpy as np     # np.sum()\n",
        "\n",
        "from numpy import *      # sum(), mean()"
      ],
      "metadata": {
        "id": "0-Nkhdgn8yuN"
      },
      "execution_count": null,
      "outputs": []
    },
    {
      "cell_type": "code",
      "source": [
        "import numpy as np"
      ],
      "metadata": {
        "id": "gTwyufvMr-ML"
      },
      "execution_count": null,
      "outputs": []
    },
    {
      "cell_type": "code",
      "metadata": {
        "id": "Hv1EQ2OBjUBK"
      },
      "source": [
        "arr = np.array(range(10))\n",
        "arr"
      ],
      "execution_count": null,
      "outputs": []
    },
    {
      "cell_type": "code",
      "metadata": {
        "id": "9Cd1UAM-mnBB"
      },
      "source": [
        "vista = arr[:3]\n",
        "vista"
      ],
      "execution_count": null,
      "outputs": []
    },
    {
      "cell_type": "code",
      "metadata": {
        "id": "WIBt95GEmnHx"
      },
      "source": [
        "vista[:] = 0\n",
        "vista"
      ],
      "execution_count": null,
      "outputs": []
    },
    {
      "cell_type": "code",
      "source": [
        "arr"
      ],
      "metadata": {
        "id": "sCyoR1mJnPOa"
      },
      "execution_count": null,
      "outputs": []
    },
    {
      "cell_type": "code",
      "metadata": {
        "id": "jvBriznumxZL"
      },
      "source": [
        "copia = arr[:5].copy()\n",
        "copia"
      ],
      "execution_count": null,
      "outputs": []
    },
    {
      "cell_type": "code",
      "source": [
        "x = np.array([1,3,2,2,5,5,5])"
      ],
      "metadata": {
        "id": "kFnqR1JTsI9W"
      },
      "execution_count": null,
      "outputs": []
    },
    {
      "cell_type": "code",
      "metadata": {
        "id": "ouU2I4BVVWOG"
      },
      "source": [
        "# Suma de los elementos de x\n",
        "np.sum(x)"
      ],
      "execution_count": null,
      "outputs": []
    },
    {
      "cell_type": "code",
      "metadata": {
        "id": "fTevdVdcVQAG"
      },
      "source": [
        "# Media\n",
        "np.mean(x)"
      ],
      "execution_count": null,
      "outputs": []
    },
    {
      "cell_type": "code",
      "metadata": {
        "id": "MU13en5QVUFd"
      },
      "source": [
        "# Mediana\n",
        "np.median(x)"
      ],
      "execution_count": null,
      "outputs": []
    },
    {
      "cell_type": "code",
      "metadata": {
        "id": "SVdHMWFHVclb"
      },
      "source": [
        "# Varianza\n",
        "np.var(x)"
      ],
      "execution_count": null,
      "outputs": []
    },
    {
      "cell_type": "code",
      "metadata": {
        "id": "A5TvuUKDVeoB"
      },
      "source": [
        "# Desviación estándar\n",
        "np.std(x)"
      ],
      "execution_count": null,
      "outputs": []
    },
    {
      "cell_type": "code",
      "metadata": {
        "id": "bQIrkFMDVxoy"
      },
      "source": [
        "my_array = np.array([1, 3, 4])"
      ],
      "execution_count": null,
      "outputs": []
    },
    {
      "cell_type": "code",
      "source": [
        "my_array"
      ],
      "metadata": {
        "id": "0AruNfu1P7GN"
      },
      "execution_count": null,
      "outputs": []
    },
    {
      "cell_type": "code",
      "source": [
        "my_array + my_array"
      ],
      "metadata": {
        "id": "yYCM9I7yP8Ib"
      },
      "execution_count": null,
      "outputs": []
    },
    {
      "cell_type": "code",
      "source": [
        "my_array*3"
      ],
      "metadata": {
        "id": "KfEjqxB6ns6m"
      },
      "execution_count": null,
      "outputs": []
    },
    {
      "cell_type": "code",
      "source": [
        "np.dot(my_array,my_array)"
      ],
      "metadata": {
        "id": "kyhz8ob9n17q"
      },
      "execution_count": null,
      "outputs": []
    },
    {
      "cell_type": "markdown",
      "source": [
        "## Arreglos 2-dimensionales (matrices)"
      ],
      "metadata": {
        "id": "I_mBUtbLs8jV"
      }
    },
    {
      "cell_type": "code",
      "metadata": {
        "id": "YMOTuyckiGJi"
      },
      "source": [
        "my_matrix = np.array([[1, 2, 3], [3, 4, 5], [6, 7, 8], [9, 10, 11]])\n",
        "my_matrix"
      ],
      "execution_count": null,
      "outputs": []
    },
    {
      "cell_type": "code",
      "metadata": {
        "id": "E7IP8m5QiCCN"
      },
      "source": [
        "my_array[1]"
      ],
      "execution_count": null,
      "outputs": []
    },
    {
      "cell_type": "code",
      "metadata": {
        "id": "A4yOZoraiyv7"
      },
      "source": [
        "my_matrix.reshape((2, 6))"
      ],
      "execution_count": null,
      "outputs": []
    },
    {
      "cell_type": "code",
      "metadata": {
        "id": "0k6OuxR5iQZ2"
      },
      "source": [
        "my_matrix.shape"
      ],
      "execution_count": null,
      "outputs": []
    },
    {
      "cell_type": "code",
      "metadata": {
        "id": "LDPA_8kzjPwo"
      },
      "source": [
        "# Crear arreglos de ceros\n",
        "np.zeros((10, 10))"
      ],
      "execution_count": null,
      "outputs": []
    },
    {
      "cell_type": "code",
      "source": [
        "img_ex = np.zeros((3, 5, 5))\n",
        "print(type(img_ex))\n",
        "img_ex"
      ],
      "metadata": {
        "id": "qp5cSJa3tRPU"
      },
      "execution_count": null,
      "outputs": []
    },
    {
      "cell_type": "code",
      "source": [
        "# Creación de números aleatorios\n",
        "np.random.randint(0, 100, (5, 5))"
      ],
      "metadata": {
        "id": "60Lm3QZetWss"
      },
      "execution_count": null,
      "outputs": []
    },
    {
      "cell_type": "code",
      "source": [
        "np.random.seed(10)"
      ],
      "metadata": {
        "id": "ckB4GjPMtcKo"
      },
      "execution_count": null,
      "outputs": []
    },
    {
      "cell_type": "code",
      "source": [
        "np.random.randint(0,10)"
      ],
      "metadata": {
        "id": "2yZdj_ohpcnx"
      },
      "execution_count": null,
      "outputs": []
    },
    {
      "cell_type": "code",
      "source": [
        "A = np.random.randint(0, 100, (5, 5))\n",
        "A"
      ],
      "metadata": {
        "id": "9jChKM6ztvI9"
      },
      "execution_count": null,
      "outputs": []
    },
    {
      "cell_type": "code",
      "source": [
        "# producto punto\n",
        "x = np.array([1, 2, 3])\n",
        "y = np.array([4, 5, 6])\n",
        "\n",
        "np.dot(x, y)"
      ],
      "metadata": {
        "id": "ZJh9ni-9t_Gg"
      },
      "execution_count": null,
      "outputs": []
    },
    {
      "cell_type": "code",
      "source": [
        "# Producto de matrices\n",
        "A = np.random.randint(0, 2, (3, 2))\n",
        "B = np.random.randint(0, 2, (2, 3))\n"
      ],
      "metadata": {
        "id": "xT9iLTTN713P"
      },
      "execution_count": null,
      "outputs": []
    },
    {
      "cell_type": "code",
      "source": [
        "print(A)\n",
        "print(B)"
      ],
      "metadata": {
        "id": "1gt__A4Z78yg"
      },
      "execution_count": null,
      "outputs": []
    },
    {
      "cell_type": "code",
      "source": [
        "Multiplicacion = np.dot(A,B)\n",
        "Multiplicacion"
      ],
      "metadata": {
        "id": "1S4oBeCW8ANJ"
      },
      "execution_count": null,
      "outputs": []
    },
    {
      "cell_type": "code",
      "source": [
        "otra = np.dot(B,A)\n",
        "otra"
      ],
      "metadata": {
        "id": "egWQqXFk8PJn"
      },
      "execution_count": null,
      "outputs": []
    },
    {
      "cell_type": "code",
      "source": [
        "# invertir matriz\n",
        "C = np.array([[2,1],[1,0]])\n",
        "\n",
        "Ainv = np.linalg.inv(C)\n",
        "Ainv"
      ],
      "metadata": {
        "id": "ODc-fj_h8YSP"
      },
      "execution_count": null,
      "outputs": []
    },
    {
      "cell_type": "markdown",
      "metadata": {
        "id": "2G-MheOorJeg"
      },
      "source": [
        "# Funciones\n",
        "\n",
        "Para definir las funciones seguimos la sintaxis\n",
        "\n",
        "```python\n",
        "def <nombre de la funcion>((parametros)):\n",
        "    <bloque de codigo>\n",
        "    (opcional) return <valor a regresar>\n",
        "```\n",
        "\n",
        "El nombre de la función sigue las mismas reglas que el nombre de las variables.\n",
        "\n",
        "Para regresar un valor de nuestra función existen dos palabras reservada ```return``` y ```yield```. La primera termina la ejecución de la función cuando la encuentra y puede estar en cualquier parte de esta, incluso puede haber varios returns en distintas partes de la función. La segunda, ```yield``` convierte a la función en un iterable. A grandes rasgos, lo que hace es pausar la ejecución de la función hasta que se le pida el siguiente valor."
      ]
    },
    {
      "cell_type": "code",
      "metadata": {
        "id": "B4udBniAsG5-"
      },
      "source": [
        "def hola(nombre):\n",
        "    print(f'Hola {nombre}')"
      ],
      "execution_count": null,
      "outputs": []
    },
    {
      "cell_type": "code",
      "metadata": {
        "id": "ZZvHvjQ5spST"
      },
      "source": [
        "hola('Max')"
      ],
      "execution_count": null,
      "outputs": []
    },
    {
      "cell_type": "code",
      "metadata": {
        "id": "jCRsF7ljsviW"
      },
      "source": [
        "def hola(nombre, param):\n",
        "    print(nombre*param)"
      ],
      "execution_count": null,
      "outputs": []
    },
    {
      "cell_type": "code",
      "metadata": {
        "id": "cFjBPHWFs2lK"
      },
      "source": [
        "hola('Javier', 3)"
      ],
      "execution_count": null,
      "outputs": []
    },
    {
      "cell_type": "code",
      "metadata": {
        "id": "OGLrt7IKtAKL"
      },
      "source": [
        "def hola2(nombre, saludo = 'Hola'):\n",
        "    print(f'{saludo} {nombre}')"
      ],
      "execution_count": null,
      "outputs": []
    },
    {
      "cell_type": "code",
      "metadata": {
        "id": "wvteMLb2tJUa"
      },
      "source": [
        "hola2('Javier')"
      ],
      "execution_count": null,
      "outputs": []
    },
    {
      "cell_type": "code",
      "metadata": {
        "id": "9dRt2pZutQuR"
      },
      "source": [
        "def imprime_numeros(n = 10, para = None):\n",
        "    for i in range(n):\n",
        "        if i == para:\n",
        "            return 'nos detuvimos'\n",
        "        print(i)\n",
        "    \n",
        "    return 'terminamos'\n"
      ],
      "execution_count": null,
      "outputs": []
    },
    {
      "cell_type": "code",
      "metadata": {
        "id": "QrRuBq8itlIi"
      },
      "source": [
        "algo = imprime_numeros()"
      ],
      "execution_count": null,
      "outputs": []
    },
    {
      "cell_type": "code",
      "source": [
        "algo"
      ],
      "metadata": {
        "id": "mXIb2KUz_jpQ"
      },
      "execution_count": null,
      "outputs": []
    },
    {
      "cell_type": "code",
      "metadata": {
        "id": "nQb90UQJ27u6"
      },
      "source": [
        "# Recursividad\n",
        "def factorial(n):\n",
        "    if n == 0:\n",
        "        return 1\n",
        "    return n*factorial(n-1)"
      ],
      "execution_count": null,
      "outputs": []
    },
    {
      "cell_type": "code",
      "metadata": {
        "id": "CZ2R26jW3N_k"
      },
      "source": [
        "valor_obtenido = factorial(4)"
      ],
      "execution_count": null,
      "outputs": []
    },
    {
      "cell_type": "code",
      "source": [
        "valor_obtenido"
      ],
      "metadata": {
        "id": "OjA4-unkJ0o-"
      },
      "execution_count": null,
      "outputs": []
    },
    {
      "cell_type": "code",
      "source": [
        "def suma_rara(valor1, valor2=2):\n",
        "  valor = valor1 + 2*valor2\n",
        "  return valor, valor-1"
      ],
      "metadata": {
        "id": "0kZ3p3jpJ-Gr"
      },
      "execution_count": null,
      "outputs": []
    },
    {
      "cell_type": "code",
      "source": [
        "valores, valores_1 = suma_rara(3)"
      ],
      "metadata": {
        "id": "GSuJM1OdKJRD"
      },
      "execution_count": null,
      "outputs": []
    },
    {
      "cell_type": "code",
      "source": [
        "valores"
      ],
      "metadata": {
        "id": "45GYGI12KRf1"
      },
      "execution_count": null,
      "outputs": []
    },
    {
      "cell_type": "code",
      "source": [
        "valores_1"
      ],
      "metadata": {
        "id": "GAfZPLX0KTTq"
      },
      "execution_count": null,
      "outputs": []
    },
    {
      "cell_type": "markdown",
      "metadata": {
        "id": "XcqN0ngeqt7J"
      },
      "source": [
        "## Visualización de datos"
      ]
    },
    {
      "cell_type": "markdown",
      "metadata": {
        "id": "3HjDN79frW2w"
      },
      "source": [
        "Para visualizar datos podemos ocupar el módulo ```matplotlib```. Cabe notar que no es el único módulo para gráficar, pero sí el más fácil de usar. Otro módulo muy usado es [```plotly```](https://plotly.com/python/) que puede crear gráficos interactivos"
      ]
    },
    {
      "cell_type": "code",
      "metadata": {
        "id": "ASnrXzTTvOdj"
      },
      "source": [
        "import matplotlib.pyplot as plt\n",
        "np.random.seed(15)"
      ],
      "execution_count": null,
      "outputs": []
    },
    {
      "cell_type": "markdown",
      "metadata": {
        "id": "GvYXIS96v4Yt"
      },
      "source": [
        "## Histograma"
      ]
    },
    {
      "cell_type": "code",
      "metadata": {
        "id": "LycaCB62vNuK"
      },
      "source": [
        "datos = np.random.normal(size = 400)\n",
        "datos"
      ],
      "execution_count": null,
      "outputs": []
    },
    {
      "cell_type": "code",
      "metadata": {
        "id": "-nfEHvjqvaAV"
      },
      "source": [
        "plt.hist(datos)"
      ],
      "execution_count": null,
      "outputs": []
    },
    {
      "cell_type": "markdown",
      "metadata": {
        "id": "lg7qTugmv7B5"
      },
      "source": [
        "## Gráfica de dispersión"
      ]
    },
    {
      "cell_type": "code",
      "metadata": {
        "id": "kENqQWTCv1MZ"
      },
      "source": [
        "# Generamos 200 números aleatorios de 0 a 1, los escalamos para que lleguen de 0 a 10 y luego los trasladamos para que queden entre -5 y 5\n",
        "x = np.random.rand(200) * 10 - 5\n",
        "# Hacemos que y igual a x al cubo y agregamos algo de ruido blanco gaussiano\n",
        "y = x**3 + np.random.normal(0, 20, 200)\n",
        "\n",
        "plt.scatter(x, y)"
      ],
      "execution_count": null,
      "outputs": []
    },
    {
      "cell_type": "code",
      "metadata": {
        "id": "T21ElJLiv8UB"
      },
      "source": [
        "x"
      ],
      "execution_count": null,
      "outputs": []
    },
    {
      "cell_type": "code",
      "metadata": {
        "id": "efXA_XZNxFCB"
      },
      "source": [
        "# Se ocupa la variable y para asignale color a los datos\n",
        "plt.scatter(x, y, c = y)"
      ],
      "execution_count": null,
      "outputs": []
    },
    {
      "cell_type": "code",
      "metadata": {
        "id": "ZrGUBk8ixNvq"
      },
      "source": [
        "# Se elige otra paleta de colores\n",
        "plt.scatter(x, y, c = y, cmap = 'plasma')"
      ],
      "execution_count": null,
      "outputs": []
    },
    {
      "cell_type": "markdown",
      "metadata": {
        "id": "POig-3gn0z40"
      },
      "source": [
        "## Lineas"
      ]
    },
    {
      "cell_type": "code",
      "metadata": {
        "id": "DtVFSCOh0zSl"
      },
      "source": [
        "# Generamos datos\n",
        "x = np.linspace(0, 10, 100)\n",
        "y = x + 1/3*np.sin(x * 2) - np.cos(x) - 1/7 * np.sin(np.sqrt(x)) + np.random.normal(0, 2, 100)\n",
        "\n",
        "plt.figure(figsize=(10, 5))\n",
        "plt.plot(x, y)\n",
        "plt.title('Gráfica con datos simulados')\n",
        "plt.xlabel('Tiempo')\n",
        "plt.ylabel('Precio')\n"
      ],
      "execution_count": null,
      "outputs": []
    },
    {
      "cell_type": "code",
      "metadata": {
        "id": "BsA55Cn9yUhq"
      },
      "source": [
        "y"
      ],
      "execution_count": null,
      "outputs": []
    },
    {
      "cell_type": "markdown",
      "metadata": {
        "id": "xy9fyqzfO1f_"
      },
      "source": [
        "# Ejercicios"
      ]
    },
    {
      "cell_type": "markdown",
      "metadata": {
        "id": "VrjKsthQO5j6"
      },
      "source": [
        "## 1. Crear un condicional que imprima si un número es par o impar\n",
        "\n",
        "Definir una variable con un número antes del if\n",
        "\n",
        "**Pista**: un número es par si módulo 2 es igual a cero"
      ]
    },
    {
      "cell_type": "code",
      "metadata": {
        "id": "YzwesUwWSZAd"
      },
      "source": [
        "print(3 % 2)\n",
        "4 % 2"
      ],
      "execution_count": null,
      "outputs": []
    },
    {
      "cell_type": "markdown",
      "metadata": {
        "id": "Bu9NtDbuPE19"
      },
      "source": [
        "## 2. Crear un ciclo que imprima todos los números de 1 a n\n",
        "\n",
        "definir n como variable y utilizarla para el ciclo"
      ]
    },
    {
      "cell_type": "markdown",
      "metadata": {
        "id": "C-JOwlJ3POP7"
      },
      "source": [
        "## 3. Crear un ciclo que imprima todos los números pares del uno al n"
      ]
    },
    {
      "cell_type": "markdown",
      "metadata": {
        "id": "kPmzm_gVPTeW"
      },
      "source": [
        "## 4. Crear un ciclo que imprima todos los números impares de 5 a n para n > 5\n",
        "\n",
        "Revisar que n sea mayor a 5 antes de entrar al ciclo, si no lo es, imprimir \"n debe ser mayor a 5\""
      ]
    },
    {
      "cell_type": "markdown",
      "metadata": {
        "id": "DkSEEWQ5Pfqo"
      },
      "source": [
        "## 5. Con un ciclo, crear la siguiente lista: 1, 4, 9, 16, 25, 36 con el método \".append()\""
      ]
    },
    {
      "cell_type": "markdown",
      "metadata": {
        "id": "S3O8b805Pfh2"
      },
      "source": [
        "## 6. Hacer el ejercicio anterior con list comprehension"
      ]
    },
    {
      "cell_type": "markdown",
      "metadata": {
        "id": "sOJ6fC_9PfSl"
      },
      "source": [
        "## 7. Imprimir, linea por linea, el siguiente patrón 3 veces con un ciclo y el operador módulo\n",
        "\n",
        "a \\\\\n",
        "aa \\\\\n",
        "aaa \\\\\n",
        "aaaa \\\\\n",
        "a \\\\\n",
        "aa \\\\\n",
        "aaa \\\\\n",
        "aaaa \\\\\n",
        "\n",
        "\n",
        "**Pista**: Ocupar la siguiente propiedad de las cadenas"
      ]
    },
    {
      "cell_type": "code",
      "metadata": {
        "id": "8H6bty3MR8kC"
      },
      "source": [
        "\"a\" * 5 "
      ],
      "execution_count": null,
      "outputs": []
    },
    {
      "cell_type": "markdown",
      "metadata": {
        "id": "SMDVgmUdS9lz"
      },
      "source": [
        "## 8. Crear una lista sólo con los elementos mayores a n de la siguiente lista.\n",
        "\n",
        "1, 34, 2, 4, 6, 8, 5, 7, 345, 23\n",
        "\n",
        "Con n una variable\n",
        "\n",
        "```python\n",
        "n = 23\n",
        "\n",
        "<bloque del codigo>\n",
        "```"
      ]
    },
    {
      "cell_type": "markdown",
      "metadata": {
        "id": "sEWXKlYVFCu6"
      },
      "source": [
        "## 9. Crear un ciclo que imprima todos los múltiplos de m hasta n\n",
        "\n",
        "E.g. para m = 2 y n = 6 la salida debería ser\n",
        "\n",
        "2 \\\\\n",
        "4 \\\\\n",
        "6 \\\\\n",
        "8 \\\\\n",
        "10 \\\\\n",
        "12"
      ]
    },
    {
      "cell_type": "markdown",
      "metadata": {
        "id": "levMdXnVSW-1"
      },
      "source": [
        "## 10. Ejercicios un poco más complicados\n",
        "\n",
        "- https://www.codechef.com/problems/EID\n",
        "\n",
        "[1, 2, 4, 56, 6, 5, 4, 56, 6]\n",
        "\n",
        "la diferencia minima entre dos elementos distintos de la lista\n",
        "\n",
        "\n",
        "- https://www.codechef.com/problems/CHEGLOVE\n",
        "\n",
        "```python\n",
        "listaA = [7, 2, 3] # Mano\n",
        "listaB = [4, 5, 6] # Guante\n",
        "\n",
        "len(listaA) == len(listaB) # True\n",
        "\n",
        "# Si los elementos de a son menores a los elementos de b element-wise, entonces imprimir\n",
        "print('Queda bien')\n",
        "# Si no, \"voltear el guante\" y hacer la misma verificacion\n",
        "print('Se volteo y todo bien')\n",
        "\n",
        "# Si aun no queda bien\n",
        "print('NO le quedo el guante')\n",
        "\n",
        "```\n",
        "- https://www.codechef.com/problems/SEGM01\n",
        "\n",
        "```python\n",
        "cadena = '000011100111'\n",
        "# Si todos los 1's forman un bloque\n",
        "print(True)\n",
        "# Si no, i.e. hay un cero en medio\n",
        "print(False)\n",
        "\n",
        "```\n",
        "\n",
        "- https://www.codechef.com/problems/HOWMANY\n",
        "\n",
        "```python\n",
        "n = 5454\n",
        "\n",
        "<bloque de código>\n",
        ">> 4\n",
        "```\n",
        "\n",
        "```python\n",
        "str(n) #5454\n",
        "```\n",
        "- https://www.codechef.com/problems/SINS\n",
        "\n",
        "```python\n",
        "m = 11\n",
        "b = 5\n",
        "\n",
        "m, b\n",
        "11, 5\n",
        "6, 5\n",
        "1, 5\n",
        "1, 4\n",
        "1, 3\n",
        "1, 2\n",
        "1, 1\n",
        "\n",
        "# La salida del programa\n",
        "print(m + b)\n",
        "```"
      ]
    },
    {
      "cell_type": "markdown",
      "source": [
        "# 11. Creación de las siguientes funciones"
      ],
      "metadata": {
        "id": "tJH4NVud_G8O"
      }
    },
    {
      "cell_type": "markdown",
      "metadata": {
        "id": "syB6-ykE2sji"
      },
      "source": [
        " - Crear una función para calcular la media (promedio) de una lista\n",
        "\n",
        "\n"
      ]
    },
    {
      "cell_type": "markdown",
      "metadata": {
        "id": "0tpnnSyV2xSg"
      },
      "source": [
        "- Otra para la varianza"
      ]
    },
    {
      "cell_type": "markdown",
      "metadata": {
        "id": "8auj_5pT208G"
      },
      "source": [
        "Los ejercicios 1, 2, 3, 7, 8, 9, convertirlos en funciones"
      ]
    },
    {
      "cell_type": "markdown",
      "metadata": {
        "id": "8YI5H3AWONHW"
      },
      "source": [
        "# Ligas últiles"
      ]
    },
    {
      "cell_type": "markdown",
      "metadata": {
        "id": "sFVNgYduOQNg"
      },
      "source": [
        "- [operadores](https://www.w3schools.com/python/python_operators.asp)\n",
        "- [list comprehension](https://www.w3schools.com/python/python_lists_comprehension.asp)"
      ]
    },
    {
      "cell_type": "markdown",
      "source": [
        "Extra: Comparativos no mencionados atras"
      ],
      "metadata": {
        "id": "Vr53sRkHBgNu"
      }
    },
    {
      "cell_type": "code",
      "source": [
        "True or False"
      ],
      "metadata": {
        "id": "O2SKdRbVBElh"
      },
      "execution_count": null,
      "outputs": []
    },
    {
      "cell_type": "code",
      "source": [
        "False or False"
      ],
      "metadata": {
        "id": "0dkTeDHnBG-s"
      },
      "execution_count": null,
      "outputs": []
    },
    {
      "cell_type": "code",
      "source": [
        "True and False"
      ],
      "metadata": {
        "id": "PsIpmxigBJ9F"
      },
      "execution_count": null,
      "outputs": []
    },
    {
      "cell_type": "code",
      "source": [
        "(True | False) & True"
      ],
      "metadata": {
        "id": "6KByTG71BMC7"
      },
      "execution_count": null,
      "outputs": []
    },
    {
      "cell_type": "code",
      "source": [
        "True & True"
      ],
      "metadata": {
        "id": "wI9u5yn_BOp0"
      },
      "execution_count": null,
      "outputs": []
    },
    {
      "cell_type": "code",
      "source": [
        "try:\n",
        "  print(algo2)\n",
        "except:\n",
        "  print('no existe la variable')"
      ],
      "metadata": {
        "id": "BZYUPfGhCDR6"
      },
      "execution_count": null,
      "outputs": []
    },
    {
      "cell_type": "code",
      "source": [
        "print(algo2)"
      ],
      "metadata": {
        "id": "7NbR_Hh-Ceoy"
      },
      "execution_count": null,
      "outputs": []
    }
  ]
}